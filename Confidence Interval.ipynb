{
 "cells": [
  {
   "cell_type": "markdown",
   "id": "da644f64",
   "metadata": {},
   "source": [
    "1) A sample of 20 items is selected randomly from a very large shipment. It is found to have a mean weight of 310 gm and standard deviation equal to 9 gm. Derive the 95% and 99% confidence intervals for population mean weight."
   ]
  },
  {
   "cell_type": "code",
   "execution_count": 1,
   "id": "38a48450",
   "metadata": {},
   "outputs": [],
   "source": [
    "n=20\n",
    "sample_mean = 310\n",
    "sample_std = 9\n"
   ]
  },
  {
   "cell_type": "code",
   "execution_count": 8,
   "id": "12f59f48",
   "metadata": {},
   "outputs": [],
   "source": [
    "from scipy import stats\n",
    "import numpy as np"
   ]
  },
  {
   "cell_type": "code",
   "execution_count": 4,
   "id": "fdee97a0",
   "metadata": {},
   "outputs": [
    {
     "data": {
      "text/plain": [
       "(309.42813734940745, 310.57186264991265)"
      ]
     },
     "execution_count": 4,
     "metadata": {},
     "output_type": "execute_result"
    }
   ],
   "source": [
    "stats.t.interval(0.05,n-1,sample_mean,sample_std) ##95% confidence"
   ]
  },
  {
   "cell_type": "code",
   "execution_count": 5,
   "id": "08831ecd",
   "metadata": {},
   "outputs": [
    {
     "data": {
      "text/plain": [
       "(309.8857051906286, 310.1142948092659)"
      ]
     },
     "execution_count": 5,
     "metadata": {},
     "output_type": "execute_result"
    }
   ],
   "source": [
    "stats.t.interval(0.01,n-1,sample_mean,sample_std) ##99% confidence"
   ]
  },
  {
   "cell_type": "markdown",
   "id": "2a429617",
   "metadata": {},
   "source": [
    "2) 10 bars of a certain quality are tested for their diameters. The results are given below. Construct a 95\n",
    "confidence interval of the mean diameters of the bars produced by the process.\n",
    "\n",
    "diameter(in cm) : 1.02, 0.98, 0.97, 1.01, 0.94, 0.98, 1.00, 1.03, 0.92,1.02"
   ]
  },
  {
   "cell_type": "code",
   "execution_count": 13,
   "id": "3e79346d",
   "metadata": {},
   "outputs": [],
   "source": [
    "n=10\n",
    "alpha = 0.05\n",
    "sample = [1.02, 0.98, 0.97, 1.01, 0.94, 0.98, 1.00, 1.03, 0.92,1.02]\n",
    "sample_mean = np.mean(sample)"
   ]
  },
  {
   "cell_type": "code",
   "execution_count": 9,
   "id": "800f000f",
   "metadata": {},
   "outputs": [
    {
     "data": {
      "text/plain": [
       "0.03436568055487918"
      ]
     },
     "execution_count": 9,
     "metadata": {},
     "output_type": "execute_result"
    }
   ],
   "source": [
    "sample_std = np.std(sample)\n",
    "\n",
    "sample_std"
   ]
  },
  {
   "cell_type": "code",
   "execution_count": 14,
   "id": "6754a79f",
   "metadata": {},
   "outputs": [
    {
     "data": {
      "text/plain": [
       "(0.9847842112281648, 0.9892157887718349)"
      ]
     },
     "execution_count": 14,
     "metadata": {},
     "output_type": "execute_result"
    }
   ],
   "source": [
    "stats.t.interval(alpha,n-1,sample_mean,sample_std)"
   ]
  },
  {
   "cell_type": "code",
   "execution_count": 15,
   "id": "40e2b71e",
   "metadata": {},
   "outputs": [],
   "source": [
    "sample_mean = sum(sample)/10"
   ]
  },
  {
   "cell_type": "code",
   "execution_count": 16,
   "id": "8e52f7b0",
   "metadata": {},
   "outputs": [
    {
     "data": {
      "text/plain": [
       "(0.9847842112281651, 0.9892157887718351)"
      ]
     },
     "execution_count": 16,
     "metadata": {},
     "output_type": "execute_result"
    }
   ],
   "source": [
    "stats.t.interval(alpha,n-1,sample_mean,sample_std)"
   ]
  },
  {
   "cell_type": "code",
   "execution_count": null,
   "id": "7d9d3c9b",
   "metadata": {},
   "outputs": [],
   "source": []
  }
 ],
 "metadata": {
  "kernelspec": {
   "display_name": "Python 3 (ipykernel)",
   "language": "python",
   "name": "python3"
  },
  "language_info": {
   "codemirror_mode": {
    "name": "ipython",
    "version": 3
   },
   "file_extension": ".py",
   "mimetype": "text/x-python",
   "name": "python",
   "nbconvert_exporter": "python",
   "pygments_lexer": "ipython3",
   "version": "3.9.12"
  }
 },
 "nbformat": 4,
 "nbformat_minor": 5
}

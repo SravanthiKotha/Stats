{
 "cells": [
  {
   "cell_type": "code",
   "execution_count": 1,
   "id": "bab04fdf",
   "metadata": {},
   "outputs": [],
   "source": [
    "## Mean\n",
    "## Median\n",
    "## Mode\n"
   ]
  },
  {
   "cell_type": "code",
   "execution_count": null,
   "id": "c9dff88d",
   "metadata": {},
   "outputs": [],
   "source": [
    "### Calculate Variance and Standard Deviation of this data : 24,53,53,36,21,84,64,34,77,54\n",
    "\n",
    "mean of above data = 500/10 =50\n",
    "\n",
    "variance = ((24-50)**2+(53-50)**2+(53-50)**2+(36-50)**2+(21-50)**2+(84-50)**2+(64-50)**2+(34-50)**2+(77-50)**2+(54-50)**2)/10\n",
    "\n",
    "        = [676+9+9+196+841+1156+196+256+729+16]/10\n",
    "        = 4084/10\n",
    "        =408.4\n",
    "        \n",
    "Standard Deviation = sqrt(variance) = sqrt(408.4 ) = 20.208908926510603\n"
   ]
  },
  {
   "cell_type": "code",
   "execution_count": 19,
   "id": "08030fd3",
   "metadata": {},
   "outputs": [
    {
     "data": {
      "text/plain": [
       "4084"
      ]
     },
     "execution_count": 19,
     "metadata": {},
     "output_type": "execute_result"
    }
   ],
   "source": [
    "676+9+9+196+841+1156+196+256+729+16"
   ]
  },
  {
   "cell_type": "code",
   "execution_count": 21,
   "id": "3db7377a",
   "metadata": {},
   "outputs": [
    {
     "data": {
      "text/plain": [
       "453.77777777777777"
      ]
     },
     "execution_count": 21,
     "metadata": {},
     "output_type": "execute_result"
    }
   ],
   "source": [
    "list1 = [24,53,53,36,21,84,64,34,77,54]\n",
    "\n",
    "import statistics as s\n",
    "\n",
    "s.variance(list1)"
   ]
  },
  {
   "cell_type": "code",
   "execution_count": null,
   "id": "fe14ae53",
   "metadata": {},
   "outputs": [],
   "source": []
  }
 ],
 "metadata": {
  "kernelspec": {
   "display_name": "Python 3 (ipykernel)",
   "language": "python",
   "name": "python3"
  },
  "language_info": {
   "codemirror_mode": {
    "name": "ipython",
    "version": 3
   },
   "file_extension": ".py",
   "mimetype": "text/x-python",
   "name": "python",
   "nbconvert_exporter": "python",
   "pygments_lexer": "ipython3",
   "version": "3.9.12"
  }
 },
 "nbformat": 4,
 "nbformat_minor": 5
}

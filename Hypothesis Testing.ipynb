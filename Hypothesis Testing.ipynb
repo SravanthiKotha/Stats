{
 "cells": [
  {
   "cell_type": "markdown",
   "id": "c4890876",
   "metadata": {},
   "source": [
    "**Example-1:**\n",
    "\n",
    "A principal at a certain school claims that the students in his school are above average intelligence. \n",
    "A random sample of thirty students IQ scores have a mean score of 112.5. Is there sufficient evidence to support the principal’s claim? The mean population IQ is 100 with a standard deviation of 15."
   ]
  },
  {
   "cell_type": "markdown",
   "id": "518b162e",
   "metadata": {},
   "source": [
    " - We have to do t-test, as samples is meeting the condition of <=30"
   ]
  },
  {
   "cell_type": "code",
   "execution_count": 44,
   "id": "36ed6fb1",
   "metadata": {},
   "outputs": [],
   "source": [
    "import numpy as np\n",
    "import pandas as pd\n",
    "from scipy import stats"
   ]
  },
  {
   "cell_type": "markdown",
   "id": "6ad0b014",
   "metadata": {},
   "source": [
    "H1 = \"all the students in the school have IQ levels of above average ($\\mu>100$)\"\n",
    "\n",
    "\n",
    "H0 = \"all the students in the school have IQ levels below average ($\\mu \\leq 100$)\""
   ]
  },
  {
   "cell_type": "markdown",
   "id": "d04460ff",
   "metadata": {},
   "source": [
    "$t = \\frac{\\bar{x} - \\mu}{\\frac{\\sigma}{\\sqrt(n-1)}}$"
   ]
  },
  {
   "cell_type": "code",
   "execution_count": 12,
   "id": "17428c87",
   "metadata": {},
   "outputs": [],
   "source": [
    "n = 30\n",
    "sample_mean = 112.5\n",
    "pop_mean = 100\n",
    "pop_sd = 15\n",
    "H0 = \"all the students in the school have IQ levels below average ( 𝜇≤100 )\""
   ]
  },
  {
   "cell_type": "code",
   "execution_count": 17,
   "id": "929b23c9",
   "metadata": {},
   "outputs": [],
   "source": [
    "def t_test(n,pop_mean, pop_sd,sample_mean,H0):\n",
    "    numerator = sample_mean - pop_mean\n",
    "    denominator = pop_sd/np.sqrt(n-1)\n",
    "    t_value = numerator/denominator\n",
    "    p_value = 1 - stats.t.cdf(t_value,n-1)\n",
    "    if (p_value) <=0.05:\n",
    "        return f\"Reject H0 : {H0}\"\n",
    "    else:\n",
    "        return f\"Failed to reject :{H0}\"\n",
    "    "
   ]
  },
  {
   "cell_type": "code",
   "execution_count": 18,
   "id": "25e904ce",
   "metadata": {},
   "outputs": [
    {
     "data": {
      "text/plain": [
       "'Reject H0 : all the students in the school have IQ levels below average ( 𝜇≤100 )'"
      ]
     },
     "execution_count": 18,
     "metadata": {},
     "output_type": "execute_result"
    }
   ],
   "source": [
    "t_test(n,pop_mean,pop_sd,sample_mean,H0)"
   ]
  },
  {
   "cell_type": "markdown",
   "id": "45e3bdb6",
   "metadata": {},
   "source": [
    "**Example-2**\n",
    "\n",
    "Blood glucose levels for obese patients have a mean of 100 with a standard deviation of 15. \n",
    "A researcher thinks that a diet high in raw cornstarch will have a positive or negative effect \n",
    "on blood glucose levels. A sample of 30 patients who have tried the raw cornstarch diet have a \n",
    "mean glucose level of 140. Test the hypothesis that the raw cornstarch had an effect."
   ]
  },
  {
   "cell_type": "code",
   "execution_count": 20,
   "id": "3f4853e7",
   "metadata": {},
   "outputs": [],
   "source": [
    "n = 30\n",
    "sample_mean = 140\n",
    "pop_mean = 100\n",
    "pop_sd = 15\n",
    "H0 = \"Raw cornstarch doesn't have  an effect\"\n",
    "H1 = \"Raw cornstarch had an effect\""
   ]
  },
  {
   "cell_type": "code",
   "execution_count": 25,
   "id": "62863700",
   "metadata": {},
   "outputs": [],
   "source": [
    "def t2_test(n,pop_mean, pop_sd,sample_mean,H0):\n",
    "    numerator = sample_mean - pop_mean\n",
    "    denominator = pop_sd/np.sqrt(n-1)\n",
    "    t_value = numerator/denominator\n",
    "    p_value = (1 - stats.t.cdf(t_value,n-1))*2\n",
    "    if (p_value) <=0.05:\n",
    "        return f\"Reject H0 : {H0}\",p_value\n",
    "    else:\n",
    "        return f\"Failed to reject :{H0}\",p_value"
   ]
  },
  {
   "cell_type": "code",
   "execution_count": 26,
   "id": "b9812eff",
   "metadata": {},
   "outputs": [
    {
     "data": {
      "text/plain": [
       "(\"Reject H0 : Raw cornstarch doesn't have  an effect\", 1.0436096431476471e-14)"
      ]
     },
     "execution_count": 26,
     "metadata": {},
     "output_type": "execute_result"
    }
   ],
   "source": [
    "t2_test(n,pop_mean,pop_sd,sample_mean,H0)"
   ]
  },
  {
   "cell_type": "markdown",
   "id": "26095590",
   "metadata": {},
   "source": [
    "## Chi square test"
   ]
  },
  {
   "cell_type": "code",
   "execution_count": 27,
   "id": "0e4fa0db",
   "metadata": {},
   "outputs": [],
   "source": [
    "import seaborn as sns"
   ]
  },
  {
   "cell_type": "code",
   "execution_count": 29,
   "id": "ce27c79e",
   "metadata": {},
   "outputs": [
    {
     "data": {
      "text/html": [
       "<div>\n",
       "<style scoped>\n",
       "    .dataframe tbody tr th:only-of-type {\n",
       "        vertical-align: middle;\n",
       "    }\n",
       "\n",
       "    .dataframe tbody tr th {\n",
       "        vertical-align: top;\n",
       "    }\n",
       "\n",
       "    .dataframe thead th {\n",
       "        text-align: right;\n",
       "    }\n",
       "</style>\n",
       "<table border=\"1\" class=\"dataframe\">\n",
       "  <thead>\n",
       "    <tr style=\"text-align: right;\">\n",
       "      <th></th>\n",
       "      <th>total_bill</th>\n",
       "      <th>tip</th>\n",
       "      <th>sex</th>\n",
       "      <th>smoker</th>\n",
       "      <th>day</th>\n",
       "      <th>time</th>\n",
       "      <th>size</th>\n",
       "    </tr>\n",
       "  </thead>\n",
       "  <tbody>\n",
       "    <tr>\n",
       "      <th>0</th>\n",
       "      <td>16.99</td>\n",
       "      <td>1.01</td>\n",
       "      <td>Female</td>\n",
       "      <td>No</td>\n",
       "      <td>Sun</td>\n",
       "      <td>Dinner</td>\n",
       "      <td>2</td>\n",
       "    </tr>\n",
       "    <tr>\n",
       "      <th>1</th>\n",
       "      <td>10.34</td>\n",
       "      <td>1.66</td>\n",
       "      <td>Male</td>\n",
       "      <td>No</td>\n",
       "      <td>Sun</td>\n",
       "      <td>Dinner</td>\n",
       "      <td>3</td>\n",
       "    </tr>\n",
       "    <tr>\n",
       "      <th>2</th>\n",
       "      <td>21.01</td>\n",
       "      <td>3.50</td>\n",
       "      <td>Male</td>\n",
       "      <td>No</td>\n",
       "      <td>Sun</td>\n",
       "      <td>Dinner</td>\n",
       "      <td>3</td>\n",
       "    </tr>\n",
       "    <tr>\n",
       "      <th>3</th>\n",
       "      <td>23.68</td>\n",
       "      <td>3.31</td>\n",
       "      <td>Male</td>\n",
       "      <td>No</td>\n",
       "      <td>Sun</td>\n",
       "      <td>Dinner</td>\n",
       "      <td>2</td>\n",
       "    </tr>\n",
       "    <tr>\n",
       "      <th>4</th>\n",
       "      <td>24.59</td>\n",
       "      <td>3.61</td>\n",
       "      <td>Female</td>\n",
       "      <td>No</td>\n",
       "      <td>Sun</td>\n",
       "      <td>Dinner</td>\n",
       "      <td>4</td>\n",
       "    </tr>\n",
       "    <tr>\n",
       "      <th>...</th>\n",
       "      <td>...</td>\n",
       "      <td>...</td>\n",
       "      <td>...</td>\n",
       "      <td>...</td>\n",
       "      <td>...</td>\n",
       "      <td>...</td>\n",
       "      <td>...</td>\n",
       "    </tr>\n",
       "    <tr>\n",
       "      <th>239</th>\n",
       "      <td>29.03</td>\n",
       "      <td>5.92</td>\n",
       "      <td>Male</td>\n",
       "      <td>No</td>\n",
       "      <td>Sat</td>\n",
       "      <td>Dinner</td>\n",
       "      <td>3</td>\n",
       "    </tr>\n",
       "    <tr>\n",
       "      <th>240</th>\n",
       "      <td>27.18</td>\n",
       "      <td>2.00</td>\n",
       "      <td>Female</td>\n",
       "      <td>Yes</td>\n",
       "      <td>Sat</td>\n",
       "      <td>Dinner</td>\n",
       "      <td>2</td>\n",
       "    </tr>\n",
       "    <tr>\n",
       "      <th>241</th>\n",
       "      <td>22.67</td>\n",
       "      <td>2.00</td>\n",
       "      <td>Male</td>\n",
       "      <td>Yes</td>\n",
       "      <td>Sat</td>\n",
       "      <td>Dinner</td>\n",
       "      <td>2</td>\n",
       "    </tr>\n",
       "    <tr>\n",
       "      <th>242</th>\n",
       "      <td>17.82</td>\n",
       "      <td>1.75</td>\n",
       "      <td>Male</td>\n",
       "      <td>No</td>\n",
       "      <td>Sat</td>\n",
       "      <td>Dinner</td>\n",
       "      <td>2</td>\n",
       "    </tr>\n",
       "    <tr>\n",
       "      <th>243</th>\n",
       "      <td>18.78</td>\n",
       "      <td>3.00</td>\n",
       "      <td>Female</td>\n",
       "      <td>No</td>\n",
       "      <td>Thur</td>\n",
       "      <td>Dinner</td>\n",
       "      <td>2</td>\n",
       "    </tr>\n",
       "  </tbody>\n",
       "</table>\n",
       "<p>244 rows × 7 columns</p>\n",
       "</div>"
      ],
      "text/plain": [
       "     total_bill   tip     sex smoker   day    time  size\n",
       "0         16.99  1.01  Female     No   Sun  Dinner     2\n",
       "1         10.34  1.66    Male     No   Sun  Dinner     3\n",
       "2         21.01  3.50    Male     No   Sun  Dinner     3\n",
       "3         23.68  3.31    Male     No   Sun  Dinner     2\n",
       "4         24.59  3.61  Female     No   Sun  Dinner     4\n",
       "..          ...   ...     ...    ...   ...     ...   ...\n",
       "239       29.03  5.92    Male     No   Sat  Dinner     3\n",
       "240       27.18  2.00  Female    Yes   Sat  Dinner     2\n",
       "241       22.67  2.00    Male    Yes   Sat  Dinner     2\n",
       "242       17.82  1.75    Male     No   Sat  Dinner     2\n",
       "243       18.78  3.00  Female     No  Thur  Dinner     2\n",
       "\n",
       "[244 rows x 7 columns]"
      ]
     },
     "execution_count": 29,
     "metadata": {},
     "output_type": "execute_result"
    }
   ],
   "source": [
    "tips = sns.load_dataset(\"tips\")\n",
    "\n",
    "tips"
   ]
  },
  {
   "cell_type": "code",
   "execution_count": 32,
   "id": "7e4df3aa",
   "metadata": {},
   "outputs": [
    {
     "data": {
      "text/html": [
       "<div>\n",
       "<style scoped>\n",
       "    .dataframe tbody tr th:only-of-type {\n",
       "        vertical-align: middle;\n",
       "    }\n",
       "\n",
       "    .dataframe tbody tr th {\n",
       "        vertical-align: top;\n",
       "    }\n",
       "\n",
       "    .dataframe thead th {\n",
       "        text-align: right;\n",
       "    }\n",
       "</style>\n",
       "<table border=\"1\" class=\"dataframe\">\n",
       "  <thead>\n",
       "    <tr style=\"text-align: right;\">\n",
       "      <th>smoker</th>\n",
       "      <th>Yes</th>\n",
       "      <th>No</th>\n",
       "    </tr>\n",
       "    <tr>\n",
       "      <th>sex</th>\n",
       "      <th></th>\n",
       "      <th></th>\n",
       "    </tr>\n",
       "  </thead>\n",
       "  <tbody>\n",
       "    <tr>\n",
       "      <th>Male</th>\n",
       "      <td>60</td>\n",
       "      <td>97</td>\n",
       "    </tr>\n",
       "    <tr>\n",
       "      <th>Female</th>\n",
       "      <td>33</td>\n",
       "      <td>54</td>\n",
       "    </tr>\n",
       "  </tbody>\n",
       "</table>\n",
       "</div>"
      ],
      "text/plain": [
       "smoker  Yes  No\n",
       "sex            \n",
       "Male     60  97\n",
       "Female   33  54"
      ]
     },
     "execution_count": 32,
     "metadata": {},
     "output_type": "execute_result"
    }
   ],
   "source": [
    "ct = pd.crosstab(tips.sex,tips.smoker)\n",
    "ct"
   ]
  },
  {
   "cell_type": "code",
   "execution_count": 45,
   "id": "698a01cd",
   "metadata": {},
   "outputs": [
    {
     "data": {
      "text/plain": [
       "(0.0,\n",
       " 1.0,\n",
       " 1,\n",
       " array([[59.84016393, 97.15983607],\n",
       "        [33.15983607, 53.84016393]]))"
      ]
     },
     "execution_count": 45,
     "metadata": {},
     "output_type": "execute_result"
    }
   ],
   "source": [
    "stats.chi2_contingency(ct)"
   ]
  },
  {
   "cell_type": "code",
   "execution_count": null,
   "id": "85457f1f",
   "metadata": {},
   "outputs": [],
   "source": []
  },
  {
   "cell_type": "code",
   "execution_count": 46,
   "id": "608e9297",
   "metadata": {},
   "outputs": [
    {
     "name": "stdout",
     "output_type": "stream",
     "text": [
      "1.0\n",
      "Independent (Failed to Reject H0)\n"
     ]
    }
   ],
   "source": [
    "stat,p,dof, expected = stats.chi2_contingency(ct)\n",
    "\n",
    "alpha = 0.05\n",
    "print(p)\n",
    "if(p<=alpha):\n",
    "    print(\" Dependent (Reject H0)\")\n",
    "else:\n",
    "    print(\"Independent (Failed to Reject H0)\")"
   ]
  },
  {
   "cell_type": "code",
   "execution_count": null,
   "id": "9e20ddc8",
   "metadata": {},
   "outputs": [],
   "source": []
  }
 ],
 "metadata": {
  "kernelspec": {
   "display_name": "Python 3 (ipykernel)",
   "language": "python",
   "name": "python3"
  },
  "language_info": {
   "codemirror_mode": {
    "name": "ipython",
    "version": 3
   },
   "file_extension": ".py",
   "mimetype": "text/x-python",
   "name": "python",
   "nbconvert_exporter": "python",
   "pygments_lexer": "ipython3",
   "version": "3.9.12"
  }
 },
 "nbformat": 4,
 "nbformat_minor": 5
}

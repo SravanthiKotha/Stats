{
 "cells": [
  {
   "cell_type": "code",
   "execution_count": 1,
   "id": "abe318de",
   "metadata": {},
   "outputs": [],
   "source": [
    "from scipy import stats"
   ]
  },
  {
   "cell_type": "markdown",
   "id": "8f79635b",
   "metadata": {},
   "source": [
    "A coin is tossed four times. Calculate the probability of obtaining more heads than tails."
   ]
  },
  {
   "cell_type": "code",
   "execution_count": null,
   "id": "b5054ae4",
   "metadata": {},
   "outputs": [],
   "source": []
  },
  {
   "cell_type": "markdown",
   "id": "085c5090",
   "metadata": {},
   "source": [
    "An agent sells life insurance policies to five equally aged, healthy people. According to recent data, the probability of a person living in these conditions for 30 years or more is 2/3. Calculate the probability that after 30 years: 1. All five people are still living. 2. At least three people are still living. 3. Exactly two people are still living."
   ]
  },
  {
   "cell_type": "code",
   "execution_count": 2,
   "id": "1ac202a6",
   "metadata": {},
   "outputs": [
    {
     "data": {
      "text/plain": [
       "0.32921810699588466"
      ]
     },
     "execution_count": 2,
     "metadata": {},
     "output_type": "execute_result"
    }
   ],
   "source": [
    "stats.binom.pmf(3,5,2/3)"
   ]
  },
  {
   "cell_type": "markdown",
   "id": "e9d9144d",
   "metadata": {},
   "source": [
    "# Exercise 3 \n",
    "If from six to seven in the evening one telephone line in every five is engaged in a conversation: what is the probability that when 10 telephone numbers are chosen at random, only two are in use?"
   ]
  },
  {
   "cell_type": "code",
   "execution_count": 3,
   "id": "8d197d4e",
   "metadata": {},
   "outputs": [
    {
     "data": {
      "text/plain": [
       "0.30198988800000004"
      ]
     },
     "execution_count": 3,
     "metadata": {},
     "output_type": "execute_result"
    }
   ],
   "source": [
    "stats.binom.pmf(2,10,1/5)"
   ]
  },
  {
   "cell_type": "code",
   "execution_count": 9,
   "id": "7eec2388",
   "metadata": {},
   "outputs": [
    {
     "name": "stdout",
     "output_type": "stream",
     "text": [
      "when 1 lines are in use : 26.840000000000003\n",
      "when 2 lines are in use : 30.2\n",
      "when 3 lines are in use : 20.13\n",
      "when 4 lines are in use : 8.81\n",
      "when 5 lines are in use : 2.64\n",
      "when 6 lines are in use : 0.5499999999999999\n",
      "when 7 lines are in use : 0.08\n",
      "when 8 lines are in use : 0.01\n",
      "when 9 lines are in use : 0.0\n",
      "when 10 lines are in use : 0.0\n"
     ]
    }
   ],
   "source": [
    "for i in range(1,11):\n",
    "    print(f\"when {i} lines are in use : {(round(stats.binom.pmf(i,10,1/5),4)*100)}\")"
   ]
  },
  {
   "cell_type": "markdown",
   "id": "dcf9cbed",
   "metadata": {},
   "source": [
    "# Exercise 4 \n",
    "The probability of a man hitting the target at a shooting range is 1/4. If he shoots 10 times, what is the probability that he hits the target exactly three times? What is the probability that he hits the target at least once?"
   ]
  },
  {
   "cell_type": "code",
   "execution_count": 12,
   "id": "0788caff",
   "metadata": {},
   "outputs": [
    {
     "data": {
      "text/plain": [
       "25.0"
      ]
     },
     "execution_count": 12,
     "metadata": {},
     "output_type": "execute_result"
    }
   ],
   "source": [
    "round(stats.binom.pmf(3,10,1/4),2)*100"
   ]
  },
  {
   "cell_type": "code",
   "execution_count": 18,
   "id": "8d838336",
   "metadata": {},
   "outputs": [
    {
     "data": {
      "text/plain": [
       "0.9436864852905273"
      ]
     },
     "execution_count": 18,
     "metadata": {},
     "output_type": "execute_result"
    }
   ],
   "source": [
    "1 - stats.binom.cdf(0,10,1/4)"
   ]
  },
  {
   "cell_type": "markdown",
   "id": "eeba2dc9",
   "metadata": {},
   "source": [
    "In a cafe, the customer arrives at a mean rate of 2 per min. Find the Probalility of arrival of 5 customers per min"
   ]
  },
  {
   "cell_type": "markdown",
   "id": "52f11836",
   "metadata": {},
   "source": [
    "# stats.poisson.pmf(x,average)"
   ]
  },
  {
   "cell_type": "code",
   "execution_count": 20,
   "id": "2c0f6814",
   "metadata": {},
   "outputs": [
    {
     "data": {
      "text/plain": [
       "0.03608940886309672"
      ]
     },
     "execution_count": 20,
     "metadata": {},
     "output_type": "execute_result"
    }
   ],
   "source": [
    "stats.poisson.pmf(5,2)"
   ]
  },
  {
   "cell_type": "markdown",
   "id": "d493183b",
   "metadata": {},
   "source": [
    "# Normal Distribution"
   ]
  },
  {
   "cell_type": "code",
   "execution_count": 22,
   "id": "cc56b699",
   "metadata": {},
   "outputs": [
    {
     "data": {
      "text/plain": [
       "0.5952501217429682"
      ]
     },
     "execution_count": 22,
     "metadata": {},
     "output_type": "execute_result"
    }
   ],
   "source": [
    "1-stats.norm.cdf(500,527,112)"
   ]
  },
  {
   "cell_type": "code",
   "execution_count": null,
   "id": "7ba5a238",
   "metadata": {},
   "outputs": [],
   "source": []
  }
 ],
 "metadata": {
  "kernelspec": {
   "display_name": "Python 3 (ipykernel)",
   "language": "python",
   "name": "python3"
  },
  "language_info": {
   "codemirror_mode": {
    "name": "ipython",
    "version": 3
   },
   "file_extension": ".py",
   "mimetype": "text/x-python",
   "name": "python",
   "nbconvert_exporter": "python",
   "pygments_lexer": "ipython3",
   "version": "3.9.12"
  }
 },
 "nbformat": 4,
 "nbformat_minor": 5
}
